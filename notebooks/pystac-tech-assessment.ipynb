{
 "cells": [
  {
   "cell_type": "code",
   "execution_count": 28,
   "id": "2e3b9bcb-5cf1-467d-9c59-c9f76d971de0",
   "metadata": {},
   "outputs": [],
   "source": [
    "import uuid\n",
    "import pystac\n",
    "import datetime\n",
    "from pystac.extensions.eo import Band, EOExtension\n",
    "from pystac.extensions.projection import ProjectionExtension\n",
    "from pystac.extensions.raster import RasterBand, RasterExtension"
   ]
  },
  {
   "cell_type": "code",
   "execution_count": 22,
   "id": "769c84eb-a709-4529-ad67-900094e52b93",
   "metadata": {},
   "outputs": [
    {
     "data": {
      "text/plain": [
       "['https://schemas.stacspec.org/v1.1.0/item-spec/json-schema/item.json']"
      ]
     },
     "execution_count": 22,
     "metadata": {},
     "output_type": "execute_result"
    }
   ],
   "source": [
    "extent = pystac.Extent(\n",
    "    spatial=pystac.SpatialExtent([[-180, -90, 180, 90]]),\n",
    "    temporal=pystac.TemporalExtent([[datetime.datetime(year=2015, month=1, day=1), None]])\n",
    ")\n",
    "\n",
    "collection = pystac.Collection(\n",
    "    id=str(uuid.uuid4()), \n",
    "    description=\"Test collection.\", \n",
    "    extent=extent,\n",
    "    title=\"test-collection\",\n",
    ")\n",
    "\n",
    "item = pystac.Item(\n",
    "    id=str(uuid.uuid4()),\n",
    "    geometry={\n",
    "        \"type\": \"Polygon\",\n",
    "        \"coordinates\": [\n",
    "            [\n",
    "                [10, 10],\n",
    "                [20, 10],\n",
    "                [20, 20],\n",
    "                [10, 20],\n",
    "                [10, 10],\n",
    "            ]\n",
    "        ]\n",
    "    },\n",
    "    bbox=[10, 10, 20, 20],\n",
    "    datetime=datetime.datetime(year=2020, month=1, day=1),\n",
    "    properties={\"sensor\": \"some-satellite\"},\n",
    "    assets={\n",
    "        \"asset1\": pystac.Asset(href=\"some/dataset.tif\", )\n",
    "    }\n",
    ")\n",
    "\n",
    "item.validate()"
   ]
  },
  {
   "cell_type": "code",
   "execution_count": 44,
   "id": "b783a61c-c336-4e01-b003-e5ec2a971cce",
   "metadata": {},
   "outputs": [],
   "source": [
    "asset = pystac.Asset(href=\"some/dataset.tif\")\n",
    "asset.set_owner(item)\n",
    "\n",
    "EOExtension.ext(asset, add_if_missing=True).bands = [Band.create(name=\"B01\", common_name=\"red\")]\n",
    "\n",
    "item.add_asset(\"red\", asset)\n",
    "\n",
    "item_proj_ext = ProjectionExtension.ext(item, add_if_missing=True)\n",
    "\n",
    "item_proj_ext.epsg = 4326"
   ]
  },
  {
   "cell_type": "code",
   "execution_count": 57,
   "id": "8b29cb96-41c3-497f-a866-84453253c963",
   "metadata": {},
   "outputs": [
    {
     "data": {
      "text/plain": [
       "{'sensor': 'some-satellite',\n",
       " 'datetime': '2020-01-01T00:00:00Z',\n",
       " 'proj:code': 'EPSG:4326'}"
      ]
     },
     "execution_count": 57,
     "metadata": {},
     "output_type": "execute_result"
    }
   ],
   "source": [
    "item.properties"
   ]
  },
  {
   "cell_type": "code",
   "execution_count": 56,
   "id": "05f027a5-d7df-401f-aeae-d83f0502d5fd",
   "metadata": {},
   "outputs": [
    {
     "data": {
      "text/plain": [
       "{'asset1': <Asset href=some/dataset.tif>, 'red': <Asset href=some/dataset.tif>}"
      ]
     },
     "execution_count": 56,
     "metadata": {},
     "output_type": "execute_result"
    }
   ],
   "source": [
    "item.assets"
   ]
  },
  {
   "cell_type": "code",
   "execution_count": 55,
   "id": "c14e7b76-acbf-40eb-9949-5c289ea2955f",
   "metadata": {},
   "outputs": [],
   "source": [
    "from dataclasses import dataclass\n",
    "from typing import Optional, Dict, Any, List\n",
    "from abc import abstractmethod\n",
    "\n",
    "\n",
    "class BaseItemRequirement:\n",
    "    @abstractmethod\n",
    "    def validate_item_against_requirement(self, item: pystac.Item):\n",
    "        pass\n",
    "\n",
    "    def to_json(self, path: str):\n",
    "        pass\n",
    "\n",
    "\n",
    "@dataclass\n",
    "class ProjectionRequirement(BaseItemRequirement):\n",
    "    epsg: Optional[int] = None\n",
    "\n",
    "    def validate_item_against_requirement(self, item: pystac.Item):\n",
    "        properties = item.properties\n",
    "\n",
    "        if self.epsg and properties.get(\"proj:epsg\", None) != self.epsg:\n",
    "            raise Exception(\"Bad projection\")\n",
    "\n",
    "\n",
    "@dataclass\n",
    "class AssetRequirement(BaseItemRequirement):\n",
    "    asset_name: str\n",
    "    media_type: Optional[str] = None\n",
    "    gsd: Optional[float] = None\n",
    "\n",
    "    def validate_item_against_requirement(self, item: pystac.Item):\n",
    "        asset = item.assets.get(self.asset_name, None)\n",
    "\n",
    "        if asset is None:\n",
    "            raise Exception(\"Asset not found!\")\n",
    "        \n",
    "        if self.media_type and asset.get(\"media_type\", None) != self.media_type:\n",
    "            raise Exception(\"Bad asset media type\")\n",
    "\n",
    "        if self.gsd and asset.get(\"eo:gsd\", None) != self.gsd:\n",
    "            raise Exception(\"Bad gsd\")\n",
    "\n",
    "\n",
    "@dataclass\n",
    "class Collection:\n",
    "    stac_collection: pystac.Collection\n",
    "    item_requirements: List[BaseItemRequirement]\n",
    "\n",
    "    def validate_item(self, item: pystac.Item):\n",
    "        validate_item_against_requirements(self.item_requirements, item)\n",
    "\n",
    "        # maybe also validate against pystac.Collection extension (spatial and temporal)\n",
    "\n",
    "    def to_json(self, path: str):\n",
    "        # can use pystac.Collection.to_dict() and json.dump\n",
    "        # can use BaseItemRequirement.to_json()\n",
    "        pass\n",
    "\n",
    "    @classmethod\n",
    "    def from_json(cls, path: str) -> \"Collection\":\n",
    "        pass\n",
    "\n",
    "\n",
    "def validate_item_against_requirements(requirements: List[BaseRequirement], item: pystac.Item):\n",
    "    for requirement in requirements:\n",
    "        requirement.validate_item_against_requirement(item)"
   ]
  },
  {
   "cell_type": "code",
   "execution_count": 54,
   "id": "79d78eeb-863f-4eb1-877b-6aa0f1d3adb1",
   "metadata": {},
   "outputs": [
    {
     "data": {
      "text/plain": [
       "{'required_assets': None, 'projection_epsg': None}"
      ]
     },
     "execution_count": 54,
     "metadata": {},
     "output_type": "execute_result"
    }
   ],
   "source": [
    "ItemRequirements().to_dict()"
   ]
  }
 ],
 "metadata": {
  "kernelspec": {
   "display_name": "Python 3 (ipykernel)",
   "language": "python",
   "name": "python3"
  },
  "language_info": {
   "codemirror_mode": {
    "name": "ipython",
    "version": 3
   },
   "file_extension": ".py",
   "mimetype": "text/x-python",
   "name": "python",
   "nbconvert_exporter": "python",
   "pygments_lexer": "ipython3",
   "version": "3.13.7"
  }
 },
 "nbformat": 4,
 "nbformat_minor": 5
}
